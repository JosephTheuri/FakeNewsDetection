{
 "cells": [
  {
   "cell_type": "markdown",
   "metadata": {},
   "source": [
    "**Description** : Clean Mock Train Data"
   ]
  },
  {
   "cell_type": "markdown",
   "metadata": {},
   "source": [
    "# Import Libraries"
   ]
  },
  {
   "cell_type": "code",
   "execution_count": 1,
   "metadata": {},
   "outputs": [],
   "source": [
    "import pandas as pd"
   ]
  },
  {
   "cell_type": "markdown",
   "metadata": {},
   "source": [
    "# Explore Data"
   ]
  },
  {
   "cell_type": "code",
   "execution_count": 29,
   "metadata": {},
   "outputs": [
    {
     "data": {
      "text/html": [
       "<div>\n",
       "<style scoped>\n",
       "    .dataframe tbody tr th:only-of-type {\n",
       "        vertical-align: middle;\n",
       "    }\n",
       "\n",
       "    .dataframe tbody tr th {\n",
       "        vertical-align: top;\n",
       "    }\n",
       "\n",
       "    .dataframe thead th {\n",
       "        text-align: right;\n",
       "    }\n",
       "</style>\n",
       "<table border=\"1\" class=\"dataframe\">\n",
       "  <thead>\n",
       "    <tr style=\"text-align: right;\">\n",
       "      <th></th>\n",
       "      <th>text</th>\n",
       "      <th>label</th>\n",
       "    </tr>\n",
       "  </thead>\n",
       "  <tbody>\n",
       "    <tr>\n",
       "      <th>0</th>\n",
       "      <td>Garrard Conley is an assistant professor of cr...</td>\n",
       "      <td>2</td>\n",
       "    </tr>\n",
       "    <tr>\n",
       "      <th>1</th>\n",
       "      <td>General Services Administration GSA Administra...</td>\n",
       "      <td>2</td>\n",
       "    </tr>\n",
       "    <tr>\n",
       "      <th>2</th>\n",
       "      <td>MADRID AP More than 17,000 fans were at the Ca...</td>\n",
       "      <td>0</td>\n",
       "    </tr>\n",
       "    <tr>\n",
       "      <th>3</th>\n",
       "      <td>The weekend isn’t over yet, so that means ther...</td>\n",
       "      <td>0</td>\n",
       "    </tr>\n",
       "    <tr>\n",
       "      <th>4</th>\n",
       "      <td>Dear Prudence is online weekly to chat live wi...</td>\n",
       "      <td>0</td>\n",
       "    </tr>\n",
       "  </tbody>\n",
       "</table>\n",
       "</div>"
      ],
      "text/plain": [
       "                                                text label\n",
       "0  Garrard Conley is an assistant professor of cr...     2\n",
       "1  General Services Administration GSA Administra...     2\n",
       "2  MADRID AP More than 17,000 fans were at the Ca...     0\n",
       "3  The weekend isn’t over yet, so that means ther...     0\n",
       "4  Dear Prudence is online weekly to chat live wi...     0"
      ]
     },
     "execution_count": 29,
     "metadata": {},
     "output_type": "execute_result"
    }
   ],
   "source": [
    "df = pd.read_csv(\"D:\\\\JT\\GTU OMS\\\\Data and Visual Analytics (CSE 6242)\\\\Project\\\\data\\\\raw\\\\1000rows_translated_german.csv\")[['text', 'label']]\n",
    "df.head()"
   ]
  },
  {
   "cell_type": "code",
   "execution_count": 32,
   "metadata": {},
   "outputs": [
    {
     "data": {
      "text/plain": [
       "(577, 2)"
      ]
     },
     "execution_count": 32,
     "metadata": {},
     "output_type": "execute_result"
    }
   ],
   "source": [
    "# df.info()\n",
    "df[df['label'].isin(['0','1'])].shape"
   ]
  },
  {
   "cell_type": "code",
   "execution_count": 24,
   "metadata": {},
   "outputs": [
    {
     "data": {
      "text/plain": [
       "(20761, 5)"
      ]
     },
     "execution_count": 24,
     "metadata": {},
     "output_type": "execute_result"
    }
   ],
   "source": [
    "# Remove rows with missing text values\n",
    "df = df[df['text'].notna()]\n",
    "df.shape"
   ]
  },
  {
   "cell_type": "code",
   "execution_count": 9,
   "metadata": {},
   "outputs": [
    {
     "data": {
      "text/html": [
       "<div>\n",
       "<style scoped>\n",
       "    .dataframe tbody tr th:only-of-type {\n",
       "        vertical-align: middle;\n",
       "    }\n",
       "\n",
       "    .dataframe tbody tr th {\n",
       "        vertical-align: top;\n",
       "    }\n",
       "\n",
       "    .dataframe thead th {\n",
       "        text-align: right;\n",
       "    }\n",
       "</style>\n",
       "<table border=\"1\" class=\"dataframe\">\n",
       "  <thead>\n",
       "    <tr style=\"text-align: right;\">\n",
       "      <th></th>\n",
       "      <th>fit_time</th>\n",
       "      <th>score_time</th>\n",
       "      <th>test_accuracy</th>\n",
       "      <th>test_precision_weighted</th>\n",
       "      <th>test_recall_weighted</th>\n",
       "      <th>test_f1_weighted</th>\n",
       "      <th>test_roc_auc</th>\n",
       "      <th>model</th>\n",
       "    </tr>\n",
       "  </thead>\n",
       "  <tbody>\n",
       "    <tr>\n",
       "      <th>0</th>\n",
       "      <td>16.8024</td>\n",
       "      <td>0.379542</td>\n",
       "      <td>0.941795</td>\n",
       "      <td>0.942481</td>\n",
       "      <td>0.941795</td>\n",
       "      <td>0.941765</td>\n",
       "      <td>0.98681</td>\n",
       "      <td>NaN</td>\n",
       "    </tr>\n",
       "    <tr>\n",
       "      <th>0</th>\n",
       "      <td>51.4022</td>\n",
       "      <td>1.2448</td>\n",
       "      <td>0.963877</td>\n",
       "      <td>0.963938</td>\n",
       "      <td>0.963877</td>\n",
       "      <td>0.963872</td>\n",
       "      <td>0.993861</td>\n",
       "      <td>RandomForest</td>\n",
       "    </tr>\n",
       "  </tbody>\n",
       "</table>\n",
       "</div>"
      ],
      "text/plain": [
       "  fit_time score_time test_accuracy test_precision_weighted  \\\n",
       "0  16.8024   0.379542      0.941795                0.942481   \n",
       "0  51.4022     1.2448      0.963877                0.963938   \n",
       "\n",
       "  test_recall_weighted test_f1_weighted test_roc_auc         model  \n",
       "0             0.941795         0.941765      0.98681           NaN  \n",
       "0             0.963877         0.963872     0.993861  RandomForest  "
      ]
     },
     "execution_count": 9,
     "metadata": {},
     "output_type": "execute_result"
    }
   ],
   "source": [
    "data = pd.read_csv(\"D:\\\\JT\\GTU OMS\\\\Data and Visual Analytics (CSE 6242)\\\\Project\\\\src\\\\modelling\\\\train_results.csv\")\n",
    "a = data.mean()\n",
    "b = data.max()\n",
    "\n",
    "pd.concat([pd.DataFrame(a).transpose(), pd.DataFrame(b).transpose()])\n"
   ]
  },
  {
   "cell_type": "code",
   "execution_count": 28,
   "metadata": {},
   "outputs": [
    {
     "name": "stdout",
     "output_type": "stream",
     "text": [
      "{'noun': 30.0, 'pron': 30.0, 'verb': 30.0, 'adj': 0.0, 'adv': 0.0, 'prep': 0.0, 'int': 0.0, 'dt': 0.0, 'cc': 10.0, 'md': 0.0} -1.5 0.6666666666666666 0.7\n"
     ]
    }
   ],
   "source": [
    "from textblob import TextBlob\n",
    "import pandas as pd\n",
    "\n",
    "pos_dic = {\n",
    "            'noun' : ['NN','NNS','NNP','NNPS'],\n",
    "            'pron' : ['PRP','PRP$','WP','WP$'],\n",
    "            'verb' : ['VB','VBD','VBG','VBN','VBP','VBZ'],\n",
    "            'adj' :  ['JJ','JJR','JJS'],\n",
    "            'adv' : ['RB','RBR','RBS','WRB'],\n",
    "            'prep' : ['IN'],    # Preposition\n",
    "            'int': ['UH'],    # Interjections\n",
    "            'dt': ['DT'],    # Determiners\n",
    "            'cc': ['CC', 'CD'],    # Conjunction\n",
    "            'md': ['MD']    # Modal\n",
    "        }\n",
    "\n",
    "wiki = TextBlob('My name is Joseph. I am 28. I like Data.')\n",
    "tags = [x[1] for x in wiki.tags]\n",
    "tag_count = pd.Series(tags).value_counts().to_dict()\n",
    "\n",
    "cnt = {\n",
    "'noun': sum([tag_count[k] for k in tag_count.keys() if k in pos_dic['noun']]), \n",
    "'pron': sum([tag_count[k] for k in tag_count.keys() if k in pos_dic['pron']]), \n",
    "'verb': sum([tag_count[k] for k in tag_count.keys() if k in pos_dic['verb']]), \n",
    "'adj': sum([tag_count[k] for k in tag_count.keys() if k in pos_dic['adj']]), \n",
    "'adv': sum([tag_count[k] for k in tag_count.keys() if k in pos_dic['adv']]),\n",
    "'prep': sum([tag_count[k] for k in tag_count.keys() if k in pos_dic['prep']]),\n",
    "'int': sum([tag_count[k] for k in tag_count.keys() if k in pos_dic['int']]),\n",
    "'dt': sum([tag_count[k] for k in tag_count.keys() if k in pos_dic['dt']]),\n",
    "'cc': sum([tag_count[k] for k in tag_count.keys() if k in pos_dic['cc']]),\n",
    "'md': sum([tag_count[k] for k in tag_count.keys() if k in pos_dic['md']]),\n",
    "}\n",
    "\n",
    "density = {k: v/sum(tag_count.values())*100 for k, v in cnt.items()}\n",
    "\n",
    "# index  of  formality: F = (noun + adjective + preposition – pronoun – verbs – participles – adverbs – interjections + 100)/2\n",
    "iof = (cnt['noun'] + cnt['adj'] + cnt['prep'] - cnt['pron'] - cnt['verb'] - cnt['adv'] - cnt['int'])/2\n",
    "\n",
    "# index of the lexical density: ratio  of  function  words  to  content words\n",
    "iol = (cnt['pron']+cnt['prep']+cnt['int']+cnt['dt']+cnt['cc']+cnt['md'])/(cnt['noun']+cnt['verb']+cnt['adj']+cnt['adv'])\n",
    "\n",
    "# POS diversity\n",
    "pos_diversity = len(set(tags))/len(tags)\n",
    "\n",
    "print(density, iof, iol, pos_diversity)"
   ]
  },
  {
   "cell_type": "code",
   "execution_count": 22,
   "metadata": {},
   "outputs": [
    {
     "data": {
      "text/plain": [
       "3"
      ]
     },
     "execution_count": 22,
     "metadata": {},
     "output_type": "execute_result"
    }
   ],
   "source": [
    "d = ({'a':1, 'b':2}, 3, 4)\n",
    "\n",
    "e,f,g = d\n",
    "\n",
    "sum(e.values())"
   ]
  },
  {
   "cell_type": "code",
   "execution_count": 4,
   "metadata": {},
   "outputs": [
    {
     "data": {
      "text/html": [
       "<div>\n",
       "<style scoped>\n",
       "    .dataframe tbody tr th:only-of-type {\n",
       "        vertical-align: middle;\n",
       "    }\n",
       "\n",
       "    .dataframe tbody tr th {\n",
       "        vertical-align: top;\n",
       "    }\n",
       "\n",
       "    .dataframe thead th {\n",
       "        text-align: right;\n",
       "    }\n",
       "</style>\n",
       "<table border=\"1\" class=\"dataframe\">\n",
       "  <thead>\n",
       "    <tr style=\"text-align: right;\">\n",
       "      <th></th>\n",
       "      <th>names</th>\n",
       "      <th>values</th>\n",
       "    </tr>\n",
       "  </thead>\n",
       "  <tbody>\n",
       "    <tr>\n",
       "      <th>0</th>\n",
       "      <td>a</td>\n",
       "      <td>1</td>\n",
       "    </tr>\n",
       "    <tr>\n",
       "      <th>1</th>\n",
       "      <td>b</td>\n",
       "      <td>0</td>\n",
       "    </tr>\n",
       "  </tbody>\n",
       "</table>\n",
       "</div>"
      ],
      "text/plain": [
       "  names  values\n",
       "0     a       1\n",
       "1     b       0"
      ]
     },
     "execution_count": 4,
     "metadata": {},
     "output_type": "execute_result"
    }
   ],
   "source": [
    "pd.DataFrame({'names':['a','b'], 'values':[1, 0]})"
   ]
  },
  {
   "cell_type": "code",
   "execution_count": 16,
   "metadata": {},
   "outputs": [
    {
     "data": {
      "text/plain": [
       "['Lorem ipsum dolor sit amet, tollit discere inermis pri ut. Eos ea iusto timeam, an prima laboramus vim.',\n",
       " 'Lorem ipsum dolor sit amet, tollit discere inermis pri ut. Eos ea iusto timeam, an prima laboramus vim.',\n",
       " 'Lorem ipsum dolor sit amet, tollit discere inermis pri ut. Eos ea iusto timeam, an prima laboramus vim.',\n",
       " 'Lorem ipsum dolor sit amet, tollit discere inermis pri ut. Eos ea iusto timeam, an prima laboramus vim.']"
      ]
     },
     "execution_count": 16,
     "metadata": {},
     "output_type": "execute_result"
    }
   ],
   "source": [
    "[ \"Lorem ipsum dolor sit amet, tollit discere inermis pri ut. Eos ea iusto timeam, an prima laboramus vim.\"]*4 "
   ]
  },
  {
   "cell_type": "code",
   "execution_count": 17,
   "metadata": {},
   "outputs": [
    {
     "data": {
      "text/plain": [
       "[{'Model': 'Model 1',\n",
       "  'Results': 'Lorem ipsum dolor sit amet, tollit discere inermis pri ut. Eos ea iusto timeam, an prima laboramus vim.'},\n",
       " {'Model': 'Model 2',\n",
       "  'Results': 'Lorem ipsum dolor sit amet, tollit discere inermis pri ut. Eos ea iusto timeam, an prima laboramus vim.'},\n",
       " {'Model': 'Model 3',\n",
       "  'Results': 'Lorem ipsum dolor sit amet, tollit discere inermis pri ut. Eos ea iusto timeam, an prima laboramus vim.'},\n",
       " {'Model': 'Model 4',\n",
       "  'Results': 'Lorem ipsum dolor sit amet, tollit discere inermis pri ut. Eos ea iusto timeam, an prima laboramus vim.'}]"
      ]
     },
     "execution_count": 17,
     "metadata": {},
     "output_type": "execute_result"
    }
   ],
   "source": [
    "import pandas as pd\n",
    "\n",
    "pd.DataFrame(\n",
    "    {'Model': ['Model 1', 'Model 2', \"Model 3\", 'Model 4'],\n",
    "    'Results': [ \"Lorem ipsum dolor sit amet, tollit discere inermis pri ut. Eos ea iusto timeam, an prima laboramus vim.\"]*4}\n",
    ").to_dict('records')"
   ]
  },
  {
   "cell_type": "markdown",
   "metadata": {},
   "source": [
    "# Modelling"
   ]
  },
  {
   "cell_type": "code",
   "execution_count": 1,
   "metadata": {},
   "outputs": [],
   "source": [
    "import pandas as pd\n",
    "from pycaret.classification import *"
   ]
  },
  {
   "cell_type": "code",
   "execution_count": 2,
   "metadata": {},
   "outputs": [],
   "source": [
    "# import data\n",
    "data = pd.read_csv('D:\\JT\\GTU OMS\\Data and Visual Analytics (CSE 6242)\\Project\\src\\processing\\data_features.csv').drop(['text','Unnamed: 0'], axis=1)\n",
    "data = data.dropna(subset=['label'])\n",
    "data['label'] = data['label'].astype(str)"
   ]
  },
  {
   "cell_type": "markdown",
   "metadata": {},
   "source": [
    "## Setting up Environment in PyCaret"
   ]
  },
  {
   "cell_type": "code",
   "execution_count": 5,
   "metadata": {},
   "outputs": [
    {
     "data": {
      "text/html": [
       "<style  type=\"text/css\" >\n",
       "#T_0120cd6c_3a6d_11ec_834e_94b86d2a4323row5_col1,#T_0120cd6c_3a6d_11ec_834e_94b86d2a4323row29_col1,#T_0120cd6c_3a6d_11ec_834e_94b86d2a4323row36_col1,#T_0120cd6c_3a6d_11ec_834e_94b86d2a4323row42_col1{\n",
       "            background-color:  lightgreen;\n",
       "        }</style><table id=\"T_0120cd6c_3a6d_11ec_834e_94b86d2a4323\" ><thead>    <tr>        <th class=\"blank level0\" ></th>        <th class=\"col_heading level0 col0\" >Description</th>        <th class=\"col_heading level0 col1\" >Value</th>    </tr></thead><tbody>\n",
       "                <tr>\n",
       "                        <th id=\"T_0120cd6c_3a6d_11ec_834e_94b86d2a4323level0_row0\" class=\"row_heading level0 row0\" >0</th>\n",
       "                        <td id=\"T_0120cd6c_3a6d_11ec_834e_94b86d2a4323row0_col0\" class=\"data row0 col0\" >session_id</td>\n",
       "                        <td id=\"T_0120cd6c_3a6d_11ec_834e_94b86d2a4323row0_col1\" class=\"data row0 col1\" >123</td>\n",
       "            </tr>\n",
       "            <tr>\n",
       "                        <th id=\"T_0120cd6c_3a6d_11ec_834e_94b86d2a4323level0_row1\" class=\"row_heading level0 row1\" >1</th>\n",
       "                        <td id=\"T_0120cd6c_3a6d_11ec_834e_94b86d2a4323row1_col0\" class=\"data row1 col0\" >Target</td>\n",
       "                        <td id=\"T_0120cd6c_3a6d_11ec_834e_94b86d2a4323row1_col1\" class=\"data row1 col1\" >label</td>\n",
       "            </tr>\n",
       "            <tr>\n",
       "                        <th id=\"T_0120cd6c_3a6d_11ec_834e_94b86d2a4323level0_row2\" class=\"row_heading level0 row2\" >2</th>\n",
       "                        <td id=\"T_0120cd6c_3a6d_11ec_834e_94b86d2a4323row2_col0\" class=\"data row2 col0\" >Target Type</td>\n",
       "                        <td id=\"T_0120cd6c_3a6d_11ec_834e_94b86d2a4323row2_col1\" class=\"data row2 col1\" >Binary</td>\n",
       "            </tr>\n",
       "            <tr>\n",
       "                        <th id=\"T_0120cd6c_3a6d_11ec_834e_94b86d2a4323level0_row3\" class=\"row_heading level0 row3\" >3</th>\n",
       "                        <td id=\"T_0120cd6c_3a6d_11ec_834e_94b86d2a4323row3_col0\" class=\"data row3 col0\" >Label Encoded</td>\n",
       "                        <td id=\"T_0120cd6c_3a6d_11ec_834e_94b86d2a4323row3_col1\" class=\"data row3 col1\" >0.0: 0, 2.0: 1</td>\n",
       "            </tr>\n",
       "            <tr>\n",
       "                        <th id=\"T_0120cd6c_3a6d_11ec_834e_94b86d2a4323level0_row4\" class=\"row_heading level0 row4\" >4</th>\n",
       "                        <td id=\"T_0120cd6c_3a6d_11ec_834e_94b86d2a4323row4_col0\" class=\"data row4 col0\" >Original Data</td>\n",
       "                        <td id=\"T_0120cd6c_3a6d_11ec_834e_94b86d2a4323row4_col1\" class=\"data row4 col1\" >(4917, 23)</td>\n",
       "            </tr>\n",
       "            <tr>\n",
       "                        <th id=\"T_0120cd6c_3a6d_11ec_834e_94b86d2a4323level0_row5\" class=\"row_heading level0 row5\" >5</th>\n",
       "                        <td id=\"T_0120cd6c_3a6d_11ec_834e_94b86d2a4323row5_col0\" class=\"data row5 col0\" >Missing Values</td>\n",
       "                        <td id=\"T_0120cd6c_3a6d_11ec_834e_94b86d2a4323row5_col1\" class=\"data row5 col1\" >True</td>\n",
       "            </tr>\n",
       "            <tr>\n",
       "                        <th id=\"T_0120cd6c_3a6d_11ec_834e_94b86d2a4323level0_row6\" class=\"row_heading level0 row6\" >6</th>\n",
       "                        <td id=\"T_0120cd6c_3a6d_11ec_834e_94b86d2a4323row6_col0\" class=\"data row6 col0\" >Numeric Features</td>\n",
       "                        <td id=\"T_0120cd6c_3a6d_11ec_834e_94b86d2a4323row6_col1\" class=\"data row6 col1\" >22</td>\n",
       "            </tr>\n",
       "            <tr>\n",
       "                        <th id=\"T_0120cd6c_3a6d_11ec_834e_94b86d2a4323level0_row7\" class=\"row_heading level0 row7\" >7</th>\n",
       "                        <td id=\"T_0120cd6c_3a6d_11ec_834e_94b86d2a4323row7_col0\" class=\"data row7 col0\" >Categorical Features</td>\n",
       "                        <td id=\"T_0120cd6c_3a6d_11ec_834e_94b86d2a4323row7_col1\" class=\"data row7 col1\" >0</td>\n",
       "            </tr>\n",
       "            <tr>\n",
       "                        <th id=\"T_0120cd6c_3a6d_11ec_834e_94b86d2a4323level0_row8\" class=\"row_heading level0 row8\" >8</th>\n",
       "                        <td id=\"T_0120cd6c_3a6d_11ec_834e_94b86d2a4323row8_col0\" class=\"data row8 col0\" >Ordinal Features</td>\n",
       "                        <td id=\"T_0120cd6c_3a6d_11ec_834e_94b86d2a4323row8_col1\" class=\"data row8 col1\" >False</td>\n",
       "            </tr>\n",
       "            <tr>\n",
       "                        <th id=\"T_0120cd6c_3a6d_11ec_834e_94b86d2a4323level0_row9\" class=\"row_heading level0 row9\" >9</th>\n",
       "                        <td id=\"T_0120cd6c_3a6d_11ec_834e_94b86d2a4323row9_col0\" class=\"data row9 col0\" >High Cardinality Features</td>\n",
       "                        <td id=\"T_0120cd6c_3a6d_11ec_834e_94b86d2a4323row9_col1\" class=\"data row9 col1\" >False</td>\n",
       "            </tr>\n",
       "            <tr>\n",
       "                        <th id=\"T_0120cd6c_3a6d_11ec_834e_94b86d2a4323level0_row10\" class=\"row_heading level0 row10\" >10</th>\n",
       "                        <td id=\"T_0120cd6c_3a6d_11ec_834e_94b86d2a4323row10_col0\" class=\"data row10 col0\" >High Cardinality Method</td>\n",
       "                        <td id=\"T_0120cd6c_3a6d_11ec_834e_94b86d2a4323row10_col1\" class=\"data row10 col1\" >None</td>\n",
       "            </tr>\n",
       "            <tr>\n",
       "                        <th id=\"T_0120cd6c_3a6d_11ec_834e_94b86d2a4323level0_row11\" class=\"row_heading level0 row11\" >11</th>\n",
       "                        <td id=\"T_0120cd6c_3a6d_11ec_834e_94b86d2a4323row11_col0\" class=\"data row11 col0\" >Transformed Train Set</td>\n",
       "                        <td id=\"T_0120cd6c_3a6d_11ec_834e_94b86d2a4323row11_col1\" class=\"data row11 col1\" >(3441, 19)</td>\n",
       "            </tr>\n",
       "            <tr>\n",
       "                        <th id=\"T_0120cd6c_3a6d_11ec_834e_94b86d2a4323level0_row12\" class=\"row_heading level0 row12\" >12</th>\n",
       "                        <td id=\"T_0120cd6c_3a6d_11ec_834e_94b86d2a4323row12_col0\" class=\"data row12 col0\" >Transformed Test Set</td>\n",
       "                        <td id=\"T_0120cd6c_3a6d_11ec_834e_94b86d2a4323row12_col1\" class=\"data row12 col1\" >(1476, 19)</td>\n",
       "            </tr>\n",
       "            <tr>\n",
       "                        <th id=\"T_0120cd6c_3a6d_11ec_834e_94b86d2a4323level0_row13\" class=\"row_heading level0 row13\" >13</th>\n",
       "                        <td id=\"T_0120cd6c_3a6d_11ec_834e_94b86d2a4323row13_col0\" class=\"data row13 col0\" >Shuffle Train-Test</td>\n",
       "                        <td id=\"T_0120cd6c_3a6d_11ec_834e_94b86d2a4323row13_col1\" class=\"data row13 col1\" >True</td>\n",
       "            </tr>\n",
       "            <tr>\n",
       "                        <th id=\"T_0120cd6c_3a6d_11ec_834e_94b86d2a4323level0_row14\" class=\"row_heading level0 row14\" >14</th>\n",
       "                        <td id=\"T_0120cd6c_3a6d_11ec_834e_94b86d2a4323row14_col0\" class=\"data row14 col0\" >Stratify Train-Test</td>\n",
       "                        <td id=\"T_0120cd6c_3a6d_11ec_834e_94b86d2a4323row14_col1\" class=\"data row14 col1\" >False</td>\n",
       "            </tr>\n",
       "            <tr>\n",
       "                        <th id=\"T_0120cd6c_3a6d_11ec_834e_94b86d2a4323level0_row15\" class=\"row_heading level0 row15\" >15</th>\n",
       "                        <td id=\"T_0120cd6c_3a6d_11ec_834e_94b86d2a4323row15_col0\" class=\"data row15 col0\" >Fold Generator</td>\n",
       "                        <td id=\"T_0120cd6c_3a6d_11ec_834e_94b86d2a4323row15_col1\" class=\"data row15 col1\" >StratifiedKFold</td>\n",
       "            </tr>\n",
       "            <tr>\n",
       "                        <th id=\"T_0120cd6c_3a6d_11ec_834e_94b86d2a4323level0_row16\" class=\"row_heading level0 row16\" >16</th>\n",
       "                        <td id=\"T_0120cd6c_3a6d_11ec_834e_94b86d2a4323row16_col0\" class=\"data row16 col0\" >Fold Number</td>\n",
       "                        <td id=\"T_0120cd6c_3a6d_11ec_834e_94b86d2a4323row16_col1\" class=\"data row16 col1\" >10</td>\n",
       "            </tr>\n",
       "            <tr>\n",
       "                        <th id=\"T_0120cd6c_3a6d_11ec_834e_94b86d2a4323level0_row17\" class=\"row_heading level0 row17\" >17</th>\n",
       "                        <td id=\"T_0120cd6c_3a6d_11ec_834e_94b86d2a4323row17_col0\" class=\"data row17 col0\" >CPU Jobs</td>\n",
       "                        <td id=\"T_0120cd6c_3a6d_11ec_834e_94b86d2a4323row17_col1\" class=\"data row17 col1\" >-1</td>\n",
       "            </tr>\n",
       "            <tr>\n",
       "                        <th id=\"T_0120cd6c_3a6d_11ec_834e_94b86d2a4323level0_row18\" class=\"row_heading level0 row18\" >18</th>\n",
       "                        <td id=\"T_0120cd6c_3a6d_11ec_834e_94b86d2a4323row18_col0\" class=\"data row18 col0\" >Use GPU</td>\n",
       "                        <td id=\"T_0120cd6c_3a6d_11ec_834e_94b86d2a4323row18_col1\" class=\"data row18 col1\" >False</td>\n",
       "            </tr>\n",
       "            <tr>\n",
       "                        <th id=\"T_0120cd6c_3a6d_11ec_834e_94b86d2a4323level0_row19\" class=\"row_heading level0 row19\" >19</th>\n",
       "                        <td id=\"T_0120cd6c_3a6d_11ec_834e_94b86d2a4323row19_col0\" class=\"data row19 col0\" >Log Experiment</td>\n",
       "                        <td id=\"T_0120cd6c_3a6d_11ec_834e_94b86d2a4323row19_col1\" class=\"data row19 col1\" >False</td>\n",
       "            </tr>\n",
       "            <tr>\n",
       "                        <th id=\"T_0120cd6c_3a6d_11ec_834e_94b86d2a4323level0_row20\" class=\"row_heading level0 row20\" >20</th>\n",
       "                        <td id=\"T_0120cd6c_3a6d_11ec_834e_94b86d2a4323row20_col0\" class=\"data row20 col0\" >Experiment Name</td>\n",
       "                        <td id=\"T_0120cd6c_3a6d_11ec_834e_94b86d2a4323row20_col1\" class=\"data row20 col1\" >clf-default-name</td>\n",
       "            </tr>\n",
       "            <tr>\n",
       "                        <th id=\"T_0120cd6c_3a6d_11ec_834e_94b86d2a4323level0_row21\" class=\"row_heading level0 row21\" >21</th>\n",
       "                        <td id=\"T_0120cd6c_3a6d_11ec_834e_94b86d2a4323row21_col0\" class=\"data row21 col0\" >USI</td>\n",
       "                        <td id=\"T_0120cd6c_3a6d_11ec_834e_94b86d2a4323row21_col1\" class=\"data row21 col1\" >6166</td>\n",
       "            </tr>\n",
       "            <tr>\n",
       "                        <th id=\"T_0120cd6c_3a6d_11ec_834e_94b86d2a4323level0_row22\" class=\"row_heading level0 row22\" >22</th>\n",
       "                        <td id=\"T_0120cd6c_3a6d_11ec_834e_94b86d2a4323row22_col0\" class=\"data row22 col0\" >Imputation Type</td>\n",
       "                        <td id=\"T_0120cd6c_3a6d_11ec_834e_94b86d2a4323row22_col1\" class=\"data row22 col1\" >simple</td>\n",
       "            </tr>\n",
       "            <tr>\n",
       "                        <th id=\"T_0120cd6c_3a6d_11ec_834e_94b86d2a4323level0_row23\" class=\"row_heading level0 row23\" >23</th>\n",
       "                        <td id=\"T_0120cd6c_3a6d_11ec_834e_94b86d2a4323row23_col0\" class=\"data row23 col0\" >Iterative Imputation Iteration</td>\n",
       "                        <td id=\"T_0120cd6c_3a6d_11ec_834e_94b86d2a4323row23_col1\" class=\"data row23 col1\" >None</td>\n",
       "            </tr>\n",
       "            <tr>\n",
       "                        <th id=\"T_0120cd6c_3a6d_11ec_834e_94b86d2a4323level0_row24\" class=\"row_heading level0 row24\" >24</th>\n",
       "                        <td id=\"T_0120cd6c_3a6d_11ec_834e_94b86d2a4323row24_col0\" class=\"data row24 col0\" >Numeric Imputer</td>\n",
       "                        <td id=\"T_0120cd6c_3a6d_11ec_834e_94b86d2a4323row24_col1\" class=\"data row24 col1\" >mean</td>\n",
       "            </tr>\n",
       "            <tr>\n",
       "                        <th id=\"T_0120cd6c_3a6d_11ec_834e_94b86d2a4323level0_row25\" class=\"row_heading level0 row25\" >25</th>\n",
       "                        <td id=\"T_0120cd6c_3a6d_11ec_834e_94b86d2a4323row25_col0\" class=\"data row25 col0\" >Iterative Imputation Numeric Model</td>\n",
       "                        <td id=\"T_0120cd6c_3a6d_11ec_834e_94b86d2a4323row25_col1\" class=\"data row25 col1\" >None</td>\n",
       "            </tr>\n",
       "            <tr>\n",
       "                        <th id=\"T_0120cd6c_3a6d_11ec_834e_94b86d2a4323level0_row26\" class=\"row_heading level0 row26\" >26</th>\n",
       "                        <td id=\"T_0120cd6c_3a6d_11ec_834e_94b86d2a4323row26_col0\" class=\"data row26 col0\" >Categorical Imputer</td>\n",
       "                        <td id=\"T_0120cd6c_3a6d_11ec_834e_94b86d2a4323row26_col1\" class=\"data row26 col1\" >constant</td>\n",
       "            </tr>\n",
       "            <tr>\n",
       "                        <th id=\"T_0120cd6c_3a6d_11ec_834e_94b86d2a4323level0_row27\" class=\"row_heading level0 row27\" >27</th>\n",
       "                        <td id=\"T_0120cd6c_3a6d_11ec_834e_94b86d2a4323row27_col0\" class=\"data row27 col0\" >Iterative Imputation Categorical Model</td>\n",
       "                        <td id=\"T_0120cd6c_3a6d_11ec_834e_94b86d2a4323row27_col1\" class=\"data row27 col1\" >None</td>\n",
       "            </tr>\n",
       "            <tr>\n",
       "                        <th id=\"T_0120cd6c_3a6d_11ec_834e_94b86d2a4323level0_row28\" class=\"row_heading level0 row28\" >28</th>\n",
       "                        <td id=\"T_0120cd6c_3a6d_11ec_834e_94b86d2a4323row28_col0\" class=\"data row28 col0\" >Unknown Categoricals Handling</td>\n",
       "                        <td id=\"T_0120cd6c_3a6d_11ec_834e_94b86d2a4323row28_col1\" class=\"data row28 col1\" >least_frequent</td>\n",
       "            </tr>\n",
       "            <tr>\n",
       "                        <th id=\"T_0120cd6c_3a6d_11ec_834e_94b86d2a4323level0_row29\" class=\"row_heading level0 row29\" >29</th>\n",
       "                        <td id=\"T_0120cd6c_3a6d_11ec_834e_94b86d2a4323row29_col0\" class=\"data row29 col0\" >Normalize</td>\n",
       "                        <td id=\"T_0120cd6c_3a6d_11ec_834e_94b86d2a4323row29_col1\" class=\"data row29 col1\" >True</td>\n",
       "            </tr>\n",
       "            <tr>\n",
       "                        <th id=\"T_0120cd6c_3a6d_11ec_834e_94b86d2a4323level0_row30\" class=\"row_heading level0 row30\" >30</th>\n",
       "                        <td id=\"T_0120cd6c_3a6d_11ec_834e_94b86d2a4323row30_col0\" class=\"data row30 col0\" >Normalize Method</td>\n",
       "                        <td id=\"T_0120cd6c_3a6d_11ec_834e_94b86d2a4323row30_col1\" class=\"data row30 col1\" >zscore</td>\n",
       "            </tr>\n",
       "            <tr>\n",
       "                        <th id=\"T_0120cd6c_3a6d_11ec_834e_94b86d2a4323level0_row31\" class=\"row_heading level0 row31\" >31</th>\n",
       "                        <td id=\"T_0120cd6c_3a6d_11ec_834e_94b86d2a4323row31_col0\" class=\"data row31 col0\" >Transformation</td>\n",
       "                        <td id=\"T_0120cd6c_3a6d_11ec_834e_94b86d2a4323row31_col1\" class=\"data row31 col1\" >False</td>\n",
       "            </tr>\n",
       "            <tr>\n",
       "                        <th id=\"T_0120cd6c_3a6d_11ec_834e_94b86d2a4323level0_row32\" class=\"row_heading level0 row32\" >32</th>\n",
       "                        <td id=\"T_0120cd6c_3a6d_11ec_834e_94b86d2a4323row32_col0\" class=\"data row32 col0\" >Transformation Method</td>\n",
       "                        <td id=\"T_0120cd6c_3a6d_11ec_834e_94b86d2a4323row32_col1\" class=\"data row32 col1\" >None</td>\n",
       "            </tr>\n",
       "            <tr>\n",
       "                        <th id=\"T_0120cd6c_3a6d_11ec_834e_94b86d2a4323level0_row33\" class=\"row_heading level0 row33\" >33</th>\n",
       "                        <td id=\"T_0120cd6c_3a6d_11ec_834e_94b86d2a4323row33_col0\" class=\"data row33 col0\" >PCA</td>\n",
       "                        <td id=\"T_0120cd6c_3a6d_11ec_834e_94b86d2a4323row33_col1\" class=\"data row33 col1\" >False</td>\n",
       "            </tr>\n",
       "            <tr>\n",
       "                        <th id=\"T_0120cd6c_3a6d_11ec_834e_94b86d2a4323level0_row34\" class=\"row_heading level0 row34\" >34</th>\n",
       "                        <td id=\"T_0120cd6c_3a6d_11ec_834e_94b86d2a4323row34_col0\" class=\"data row34 col0\" >PCA Method</td>\n",
       "                        <td id=\"T_0120cd6c_3a6d_11ec_834e_94b86d2a4323row34_col1\" class=\"data row34 col1\" >None</td>\n",
       "            </tr>\n",
       "            <tr>\n",
       "                        <th id=\"T_0120cd6c_3a6d_11ec_834e_94b86d2a4323level0_row35\" class=\"row_heading level0 row35\" >35</th>\n",
       "                        <td id=\"T_0120cd6c_3a6d_11ec_834e_94b86d2a4323row35_col0\" class=\"data row35 col0\" >PCA Components</td>\n",
       "                        <td id=\"T_0120cd6c_3a6d_11ec_834e_94b86d2a4323row35_col1\" class=\"data row35 col1\" >None</td>\n",
       "            </tr>\n",
       "            <tr>\n",
       "                        <th id=\"T_0120cd6c_3a6d_11ec_834e_94b86d2a4323level0_row36\" class=\"row_heading level0 row36\" >36</th>\n",
       "                        <td id=\"T_0120cd6c_3a6d_11ec_834e_94b86d2a4323row36_col0\" class=\"data row36 col0\" >Ignore Low Variance</td>\n",
       "                        <td id=\"T_0120cd6c_3a6d_11ec_834e_94b86d2a4323row36_col1\" class=\"data row36 col1\" >True</td>\n",
       "            </tr>\n",
       "            <tr>\n",
       "                        <th id=\"T_0120cd6c_3a6d_11ec_834e_94b86d2a4323level0_row37\" class=\"row_heading level0 row37\" >37</th>\n",
       "                        <td id=\"T_0120cd6c_3a6d_11ec_834e_94b86d2a4323row37_col0\" class=\"data row37 col0\" >Combine Rare Levels</td>\n",
       "                        <td id=\"T_0120cd6c_3a6d_11ec_834e_94b86d2a4323row37_col1\" class=\"data row37 col1\" >False</td>\n",
       "            </tr>\n",
       "            <tr>\n",
       "                        <th id=\"T_0120cd6c_3a6d_11ec_834e_94b86d2a4323level0_row38\" class=\"row_heading level0 row38\" >38</th>\n",
       "                        <td id=\"T_0120cd6c_3a6d_11ec_834e_94b86d2a4323row38_col0\" class=\"data row38 col0\" >Rare Level Threshold</td>\n",
       "                        <td id=\"T_0120cd6c_3a6d_11ec_834e_94b86d2a4323row38_col1\" class=\"data row38 col1\" >None</td>\n",
       "            </tr>\n",
       "            <tr>\n",
       "                        <th id=\"T_0120cd6c_3a6d_11ec_834e_94b86d2a4323level0_row39\" class=\"row_heading level0 row39\" >39</th>\n",
       "                        <td id=\"T_0120cd6c_3a6d_11ec_834e_94b86d2a4323row39_col0\" class=\"data row39 col0\" >Numeric Binning</td>\n",
       "                        <td id=\"T_0120cd6c_3a6d_11ec_834e_94b86d2a4323row39_col1\" class=\"data row39 col1\" >False</td>\n",
       "            </tr>\n",
       "            <tr>\n",
       "                        <th id=\"T_0120cd6c_3a6d_11ec_834e_94b86d2a4323level0_row40\" class=\"row_heading level0 row40\" >40</th>\n",
       "                        <td id=\"T_0120cd6c_3a6d_11ec_834e_94b86d2a4323row40_col0\" class=\"data row40 col0\" >Remove Outliers</td>\n",
       "                        <td id=\"T_0120cd6c_3a6d_11ec_834e_94b86d2a4323row40_col1\" class=\"data row40 col1\" >False</td>\n",
       "            </tr>\n",
       "            <tr>\n",
       "                        <th id=\"T_0120cd6c_3a6d_11ec_834e_94b86d2a4323level0_row41\" class=\"row_heading level0 row41\" >41</th>\n",
       "                        <td id=\"T_0120cd6c_3a6d_11ec_834e_94b86d2a4323row41_col0\" class=\"data row41 col0\" >Outliers Threshold</td>\n",
       "                        <td id=\"T_0120cd6c_3a6d_11ec_834e_94b86d2a4323row41_col1\" class=\"data row41 col1\" >None</td>\n",
       "            </tr>\n",
       "            <tr>\n",
       "                        <th id=\"T_0120cd6c_3a6d_11ec_834e_94b86d2a4323level0_row42\" class=\"row_heading level0 row42\" >42</th>\n",
       "                        <td id=\"T_0120cd6c_3a6d_11ec_834e_94b86d2a4323row42_col0\" class=\"data row42 col0\" >Remove Multicollinearity</td>\n",
       "                        <td id=\"T_0120cd6c_3a6d_11ec_834e_94b86d2a4323row42_col1\" class=\"data row42 col1\" >True</td>\n",
       "            </tr>\n",
       "            <tr>\n",
       "                        <th id=\"T_0120cd6c_3a6d_11ec_834e_94b86d2a4323level0_row43\" class=\"row_heading level0 row43\" >43</th>\n",
       "                        <td id=\"T_0120cd6c_3a6d_11ec_834e_94b86d2a4323row43_col0\" class=\"data row43 col0\" >Multicollinearity Threshold</td>\n",
       "                        <td id=\"T_0120cd6c_3a6d_11ec_834e_94b86d2a4323row43_col1\" class=\"data row43 col1\" >0.950000</td>\n",
       "            </tr>\n",
       "            <tr>\n",
       "                        <th id=\"T_0120cd6c_3a6d_11ec_834e_94b86d2a4323level0_row44\" class=\"row_heading level0 row44\" >44</th>\n",
       "                        <td id=\"T_0120cd6c_3a6d_11ec_834e_94b86d2a4323row44_col0\" class=\"data row44 col0\" >Clustering</td>\n",
       "                        <td id=\"T_0120cd6c_3a6d_11ec_834e_94b86d2a4323row44_col1\" class=\"data row44 col1\" >False</td>\n",
       "            </tr>\n",
       "            <tr>\n",
       "                        <th id=\"T_0120cd6c_3a6d_11ec_834e_94b86d2a4323level0_row45\" class=\"row_heading level0 row45\" >45</th>\n",
       "                        <td id=\"T_0120cd6c_3a6d_11ec_834e_94b86d2a4323row45_col0\" class=\"data row45 col0\" >Clustering Iteration</td>\n",
       "                        <td id=\"T_0120cd6c_3a6d_11ec_834e_94b86d2a4323row45_col1\" class=\"data row45 col1\" >None</td>\n",
       "            </tr>\n",
       "            <tr>\n",
       "                        <th id=\"T_0120cd6c_3a6d_11ec_834e_94b86d2a4323level0_row46\" class=\"row_heading level0 row46\" >46</th>\n",
       "                        <td id=\"T_0120cd6c_3a6d_11ec_834e_94b86d2a4323row46_col0\" class=\"data row46 col0\" >Polynomial Features</td>\n",
       "                        <td id=\"T_0120cd6c_3a6d_11ec_834e_94b86d2a4323row46_col1\" class=\"data row46 col1\" >False</td>\n",
       "            </tr>\n",
       "            <tr>\n",
       "                        <th id=\"T_0120cd6c_3a6d_11ec_834e_94b86d2a4323level0_row47\" class=\"row_heading level0 row47\" >47</th>\n",
       "                        <td id=\"T_0120cd6c_3a6d_11ec_834e_94b86d2a4323row47_col0\" class=\"data row47 col0\" >Polynomial Degree</td>\n",
       "                        <td id=\"T_0120cd6c_3a6d_11ec_834e_94b86d2a4323row47_col1\" class=\"data row47 col1\" >None</td>\n",
       "            </tr>\n",
       "            <tr>\n",
       "                        <th id=\"T_0120cd6c_3a6d_11ec_834e_94b86d2a4323level0_row48\" class=\"row_heading level0 row48\" >48</th>\n",
       "                        <td id=\"T_0120cd6c_3a6d_11ec_834e_94b86d2a4323row48_col0\" class=\"data row48 col0\" >Trignometry Features</td>\n",
       "                        <td id=\"T_0120cd6c_3a6d_11ec_834e_94b86d2a4323row48_col1\" class=\"data row48 col1\" >False</td>\n",
       "            </tr>\n",
       "            <tr>\n",
       "                        <th id=\"T_0120cd6c_3a6d_11ec_834e_94b86d2a4323level0_row49\" class=\"row_heading level0 row49\" >49</th>\n",
       "                        <td id=\"T_0120cd6c_3a6d_11ec_834e_94b86d2a4323row49_col0\" class=\"data row49 col0\" >Polynomial Threshold</td>\n",
       "                        <td id=\"T_0120cd6c_3a6d_11ec_834e_94b86d2a4323row49_col1\" class=\"data row49 col1\" >None</td>\n",
       "            </tr>\n",
       "            <tr>\n",
       "                        <th id=\"T_0120cd6c_3a6d_11ec_834e_94b86d2a4323level0_row50\" class=\"row_heading level0 row50\" >50</th>\n",
       "                        <td id=\"T_0120cd6c_3a6d_11ec_834e_94b86d2a4323row50_col0\" class=\"data row50 col0\" >Group Features</td>\n",
       "                        <td id=\"T_0120cd6c_3a6d_11ec_834e_94b86d2a4323row50_col1\" class=\"data row50 col1\" >False</td>\n",
       "            </tr>\n",
       "            <tr>\n",
       "                        <th id=\"T_0120cd6c_3a6d_11ec_834e_94b86d2a4323level0_row51\" class=\"row_heading level0 row51\" >51</th>\n",
       "                        <td id=\"T_0120cd6c_3a6d_11ec_834e_94b86d2a4323row51_col0\" class=\"data row51 col0\" >Feature Selection</td>\n",
       "                        <td id=\"T_0120cd6c_3a6d_11ec_834e_94b86d2a4323row51_col1\" class=\"data row51 col1\" >False</td>\n",
       "            </tr>\n",
       "            <tr>\n",
       "                        <th id=\"T_0120cd6c_3a6d_11ec_834e_94b86d2a4323level0_row52\" class=\"row_heading level0 row52\" >52</th>\n",
       "                        <td id=\"T_0120cd6c_3a6d_11ec_834e_94b86d2a4323row52_col0\" class=\"data row52 col0\" >Features Selection Threshold</td>\n",
       "                        <td id=\"T_0120cd6c_3a6d_11ec_834e_94b86d2a4323row52_col1\" class=\"data row52 col1\" >None</td>\n",
       "            </tr>\n",
       "            <tr>\n",
       "                        <th id=\"T_0120cd6c_3a6d_11ec_834e_94b86d2a4323level0_row53\" class=\"row_heading level0 row53\" >53</th>\n",
       "                        <td id=\"T_0120cd6c_3a6d_11ec_834e_94b86d2a4323row53_col0\" class=\"data row53 col0\" >Feature Interaction</td>\n",
       "                        <td id=\"T_0120cd6c_3a6d_11ec_834e_94b86d2a4323row53_col1\" class=\"data row53 col1\" >False</td>\n",
       "            </tr>\n",
       "            <tr>\n",
       "                        <th id=\"T_0120cd6c_3a6d_11ec_834e_94b86d2a4323level0_row54\" class=\"row_heading level0 row54\" >54</th>\n",
       "                        <td id=\"T_0120cd6c_3a6d_11ec_834e_94b86d2a4323row54_col0\" class=\"data row54 col0\" >Feature Ratio</td>\n",
       "                        <td id=\"T_0120cd6c_3a6d_11ec_834e_94b86d2a4323row54_col1\" class=\"data row54 col1\" >False</td>\n",
       "            </tr>\n",
       "            <tr>\n",
       "                        <th id=\"T_0120cd6c_3a6d_11ec_834e_94b86d2a4323level0_row55\" class=\"row_heading level0 row55\" >55</th>\n",
       "                        <td id=\"T_0120cd6c_3a6d_11ec_834e_94b86d2a4323row55_col0\" class=\"data row55 col0\" >Interaction Threshold</td>\n",
       "                        <td id=\"T_0120cd6c_3a6d_11ec_834e_94b86d2a4323row55_col1\" class=\"data row55 col1\" >None</td>\n",
       "            </tr>\n",
       "            <tr>\n",
       "                        <th id=\"T_0120cd6c_3a6d_11ec_834e_94b86d2a4323level0_row56\" class=\"row_heading level0 row56\" >56</th>\n",
       "                        <td id=\"T_0120cd6c_3a6d_11ec_834e_94b86d2a4323row56_col0\" class=\"data row56 col0\" >Fix Imbalance</td>\n",
       "                        <td id=\"T_0120cd6c_3a6d_11ec_834e_94b86d2a4323row56_col1\" class=\"data row56 col1\" >False</td>\n",
       "            </tr>\n",
       "            <tr>\n",
       "                        <th id=\"T_0120cd6c_3a6d_11ec_834e_94b86d2a4323level0_row57\" class=\"row_heading level0 row57\" >57</th>\n",
       "                        <td id=\"T_0120cd6c_3a6d_11ec_834e_94b86d2a4323row57_col0\" class=\"data row57 col0\" >Fix Imbalance Method</td>\n",
       "                        <td id=\"T_0120cd6c_3a6d_11ec_834e_94b86d2a4323row57_col1\" class=\"data row57 col1\" >SMOTE</td>\n",
       "            </tr>\n",
       "    </tbody></table>"
      ],
      "text/plain": [
       "<pandas.io.formats.style.Styler at 0x17a57968160>"
      ]
     },
     "metadata": {},
     "output_type": "display_data"
    }
   ],
   "source": [
    "exp_clf102 = setup(data = data, target = 'label', session_id=123,\n",
    "                  numeric_features=['polarity_', 'subjectivity_'],\n",
    "                  normalize = True, \n",
    "                  ignore_low_variance = True,\n",
    "                  remove_multicollinearity = True, multicollinearity_threshold = 0.95)"
   ]
  },
  {
   "cell_type": "markdown",
   "metadata": {},
   "source": [
    "## Comparing All Models"
   ]
  },
  {
   "cell_type": "code",
   "execution_count": 6,
   "metadata": {},
   "outputs": [
    {
     "data": {
      "text/html": [
       "<style  type=\"text/css\" >\n",
       "    #T_3c2b93b6_3a6d_11ec_90d1_94b86d2a4323 th {\n",
       "          text-align: left;\n",
       "    }#T_3c2b93b6_3a6d_11ec_90d1_94b86d2a4323row0_col0,#T_3c2b93b6_3a6d_11ec_90d1_94b86d2a4323row0_col2,#T_3c2b93b6_3a6d_11ec_90d1_94b86d2a4323row1_col0,#T_3c2b93b6_3a6d_11ec_90d1_94b86d2a4323row1_col1,#T_3c2b93b6_3a6d_11ec_90d1_94b86d2a4323row1_col3,#T_3c2b93b6_3a6d_11ec_90d1_94b86d2a4323row1_col4,#T_3c2b93b6_3a6d_11ec_90d1_94b86d2a4323row1_col5,#T_3c2b93b6_3a6d_11ec_90d1_94b86d2a4323row1_col6,#T_3c2b93b6_3a6d_11ec_90d1_94b86d2a4323row1_col7,#T_3c2b93b6_3a6d_11ec_90d1_94b86d2a4323row2_col0,#T_3c2b93b6_3a6d_11ec_90d1_94b86d2a4323row2_col1,#T_3c2b93b6_3a6d_11ec_90d1_94b86d2a4323row2_col2,#T_3c2b93b6_3a6d_11ec_90d1_94b86d2a4323row2_col3,#T_3c2b93b6_3a6d_11ec_90d1_94b86d2a4323row2_col4,#T_3c2b93b6_3a6d_11ec_90d1_94b86d2a4323row2_col5,#T_3c2b93b6_3a6d_11ec_90d1_94b86d2a4323row2_col6,#T_3c2b93b6_3a6d_11ec_90d1_94b86d2a4323row2_col7,#T_3c2b93b6_3a6d_11ec_90d1_94b86d2a4323row3_col0,#T_3c2b93b6_3a6d_11ec_90d1_94b86d2a4323row3_col1,#T_3c2b93b6_3a6d_11ec_90d1_94b86d2a4323row3_col2,#T_3c2b93b6_3a6d_11ec_90d1_94b86d2a4323row3_col3,#T_3c2b93b6_3a6d_11ec_90d1_94b86d2a4323row3_col4,#T_3c2b93b6_3a6d_11ec_90d1_94b86d2a4323row3_col5,#T_3c2b93b6_3a6d_11ec_90d1_94b86d2a4323row3_col6,#T_3c2b93b6_3a6d_11ec_90d1_94b86d2a4323row3_col7,#T_3c2b93b6_3a6d_11ec_90d1_94b86d2a4323row4_col0,#T_3c2b93b6_3a6d_11ec_90d1_94b86d2a4323row4_col1,#T_3c2b93b6_3a6d_11ec_90d1_94b86d2a4323row4_col2,#T_3c2b93b6_3a6d_11ec_90d1_94b86d2a4323row4_col3,#T_3c2b93b6_3a6d_11ec_90d1_94b86d2a4323row4_col4,#T_3c2b93b6_3a6d_11ec_90d1_94b86d2a4323row4_col5,#T_3c2b93b6_3a6d_11ec_90d1_94b86d2a4323row4_col6,#T_3c2b93b6_3a6d_11ec_90d1_94b86d2a4323row4_col7,#T_3c2b93b6_3a6d_11ec_90d1_94b86d2a4323row5_col0,#T_3c2b93b6_3a6d_11ec_90d1_94b86d2a4323row5_col1,#T_3c2b93b6_3a6d_11ec_90d1_94b86d2a4323row5_col2,#T_3c2b93b6_3a6d_11ec_90d1_94b86d2a4323row5_col3,#T_3c2b93b6_3a6d_11ec_90d1_94b86d2a4323row5_col4,#T_3c2b93b6_3a6d_11ec_90d1_94b86d2a4323row5_col5,#T_3c2b93b6_3a6d_11ec_90d1_94b86d2a4323row5_col6,#T_3c2b93b6_3a6d_11ec_90d1_94b86d2a4323row5_col7,#T_3c2b93b6_3a6d_11ec_90d1_94b86d2a4323row6_col0,#T_3c2b93b6_3a6d_11ec_90d1_94b86d2a4323row6_col1,#T_3c2b93b6_3a6d_11ec_90d1_94b86d2a4323row6_col2,#T_3c2b93b6_3a6d_11ec_90d1_94b86d2a4323row6_col3,#T_3c2b93b6_3a6d_11ec_90d1_94b86d2a4323row6_col4,#T_3c2b93b6_3a6d_11ec_90d1_94b86d2a4323row6_col5,#T_3c2b93b6_3a6d_11ec_90d1_94b86d2a4323row6_col6,#T_3c2b93b6_3a6d_11ec_90d1_94b86d2a4323row6_col7,#T_3c2b93b6_3a6d_11ec_90d1_94b86d2a4323row7_col0,#T_3c2b93b6_3a6d_11ec_90d1_94b86d2a4323row7_col1,#T_3c2b93b6_3a6d_11ec_90d1_94b86d2a4323row7_col2,#T_3c2b93b6_3a6d_11ec_90d1_94b86d2a4323row7_col3,#T_3c2b93b6_3a6d_11ec_90d1_94b86d2a4323row7_col4,#T_3c2b93b6_3a6d_11ec_90d1_94b86d2a4323row7_col5,#T_3c2b93b6_3a6d_11ec_90d1_94b86d2a4323row7_col6,#T_3c2b93b6_3a6d_11ec_90d1_94b86d2a4323row7_col7,#T_3c2b93b6_3a6d_11ec_90d1_94b86d2a4323row8_col0,#T_3c2b93b6_3a6d_11ec_90d1_94b86d2a4323row8_col1,#T_3c2b93b6_3a6d_11ec_90d1_94b86d2a4323row8_col2,#T_3c2b93b6_3a6d_11ec_90d1_94b86d2a4323row8_col3,#T_3c2b93b6_3a6d_11ec_90d1_94b86d2a4323row8_col4,#T_3c2b93b6_3a6d_11ec_90d1_94b86d2a4323row8_col5,#T_3c2b93b6_3a6d_11ec_90d1_94b86d2a4323row8_col6,#T_3c2b93b6_3a6d_11ec_90d1_94b86d2a4323row8_col7,#T_3c2b93b6_3a6d_11ec_90d1_94b86d2a4323row9_col0,#T_3c2b93b6_3a6d_11ec_90d1_94b86d2a4323row9_col1,#T_3c2b93b6_3a6d_11ec_90d1_94b86d2a4323row9_col2,#T_3c2b93b6_3a6d_11ec_90d1_94b86d2a4323row9_col3,#T_3c2b93b6_3a6d_11ec_90d1_94b86d2a4323row9_col4,#T_3c2b93b6_3a6d_11ec_90d1_94b86d2a4323row9_col5,#T_3c2b93b6_3a6d_11ec_90d1_94b86d2a4323row9_col6,#T_3c2b93b6_3a6d_11ec_90d1_94b86d2a4323row9_col7,#T_3c2b93b6_3a6d_11ec_90d1_94b86d2a4323row10_col0,#T_3c2b93b6_3a6d_11ec_90d1_94b86d2a4323row10_col1,#T_3c2b93b6_3a6d_11ec_90d1_94b86d2a4323row10_col2,#T_3c2b93b6_3a6d_11ec_90d1_94b86d2a4323row10_col3,#T_3c2b93b6_3a6d_11ec_90d1_94b86d2a4323row10_col4,#T_3c2b93b6_3a6d_11ec_90d1_94b86d2a4323row10_col5,#T_3c2b93b6_3a6d_11ec_90d1_94b86d2a4323row10_col6,#T_3c2b93b6_3a6d_11ec_90d1_94b86d2a4323row10_col7,#T_3c2b93b6_3a6d_11ec_90d1_94b86d2a4323row11_col0,#T_3c2b93b6_3a6d_11ec_90d1_94b86d2a4323row11_col1,#T_3c2b93b6_3a6d_11ec_90d1_94b86d2a4323row11_col2,#T_3c2b93b6_3a6d_11ec_90d1_94b86d2a4323row11_col3,#T_3c2b93b6_3a6d_11ec_90d1_94b86d2a4323row11_col4,#T_3c2b93b6_3a6d_11ec_90d1_94b86d2a4323row11_col5,#T_3c2b93b6_3a6d_11ec_90d1_94b86d2a4323row11_col6,#T_3c2b93b6_3a6d_11ec_90d1_94b86d2a4323row11_col7,#T_3c2b93b6_3a6d_11ec_90d1_94b86d2a4323row12_col0,#T_3c2b93b6_3a6d_11ec_90d1_94b86d2a4323row12_col1,#T_3c2b93b6_3a6d_11ec_90d1_94b86d2a4323row12_col2,#T_3c2b93b6_3a6d_11ec_90d1_94b86d2a4323row12_col3,#T_3c2b93b6_3a6d_11ec_90d1_94b86d2a4323row12_col4,#T_3c2b93b6_3a6d_11ec_90d1_94b86d2a4323row12_col5,#T_3c2b93b6_3a6d_11ec_90d1_94b86d2a4323row12_col6,#T_3c2b93b6_3a6d_11ec_90d1_94b86d2a4323row12_col7,#T_3c2b93b6_3a6d_11ec_90d1_94b86d2a4323row13_col0,#T_3c2b93b6_3a6d_11ec_90d1_94b86d2a4323row13_col1,#T_3c2b93b6_3a6d_11ec_90d1_94b86d2a4323row13_col2,#T_3c2b93b6_3a6d_11ec_90d1_94b86d2a4323row13_col3,#T_3c2b93b6_3a6d_11ec_90d1_94b86d2a4323row13_col4,#T_3c2b93b6_3a6d_11ec_90d1_94b86d2a4323row13_col5,#T_3c2b93b6_3a6d_11ec_90d1_94b86d2a4323row13_col6,#T_3c2b93b6_3a6d_11ec_90d1_94b86d2a4323row13_col7,#T_3c2b93b6_3a6d_11ec_90d1_94b86d2a4323row14_col0,#T_3c2b93b6_3a6d_11ec_90d1_94b86d2a4323row14_col1,#T_3c2b93b6_3a6d_11ec_90d1_94b86d2a4323row14_col2,#T_3c2b93b6_3a6d_11ec_90d1_94b86d2a4323row14_col3,#T_3c2b93b6_3a6d_11ec_90d1_94b86d2a4323row14_col4,#T_3c2b93b6_3a6d_11ec_90d1_94b86d2a4323row14_col5,#T_3c2b93b6_3a6d_11ec_90d1_94b86d2a4323row14_col6,#T_3c2b93b6_3a6d_11ec_90d1_94b86d2a4323row14_col7{\n",
       "            text-align:  left;\n",
       "            text-align:  left;\n",
       "        }#T_3c2b93b6_3a6d_11ec_90d1_94b86d2a4323row0_col1,#T_3c2b93b6_3a6d_11ec_90d1_94b86d2a4323row0_col3,#T_3c2b93b6_3a6d_11ec_90d1_94b86d2a4323row0_col4,#T_3c2b93b6_3a6d_11ec_90d1_94b86d2a4323row0_col5,#T_3c2b93b6_3a6d_11ec_90d1_94b86d2a4323row0_col6,#T_3c2b93b6_3a6d_11ec_90d1_94b86d2a4323row0_col7,#T_3c2b93b6_3a6d_11ec_90d1_94b86d2a4323row1_col2{\n",
       "            text-align:  left;\n",
       "            text-align:  left;\n",
       "            background-color:  yellow;\n",
       "        }#T_3c2b93b6_3a6d_11ec_90d1_94b86d2a4323row0_col8,#T_3c2b93b6_3a6d_11ec_90d1_94b86d2a4323row1_col8,#T_3c2b93b6_3a6d_11ec_90d1_94b86d2a4323row2_col8,#T_3c2b93b6_3a6d_11ec_90d1_94b86d2a4323row3_col8,#T_3c2b93b6_3a6d_11ec_90d1_94b86d2a4323row4_col8,#T_3c2b93b6_3a6d_11ec_90d1_94b86d2a4323row5_col8,#T_3c2b93b6_3a6d_11ec_90d1_94b86d2a4323row6_col8,#T_3c2b93b6_3a6d_11ec_90d1_94b86d2a4323row8_col8,#T_3c2b93b6_3a6d_11ec_90d1_94b86d2a4323row9_col8,#T_3c2b93b6_3a6d_11ec_90d1_94b86d2a4323row10_col8,#T_3c2b93b6_3a6d_11ec_90d1_94b86d2a4323row11_col8,#T_3c2b93b6_3a6d_11ec_90d1_94b86d2a4323row12_col8,#T_3c2b93b6_3a6d_11ec_90d1_94b86d2a4323row14_col8{\n",
       "            text-align:  left;\n",
       "            text-align:  left;\n",
       "            background-color:  lightgrey;\n",
       "        }#T_3c2b93b6_3a6d_11ec_90d1_94b86d2a4323row7_col8,#T_3c2b93b6_3a6d_11ec_90d1_94b86d2a4323row13_col8{\n",
       "            text-align:  left;\n",
       "            text-align:  left;\n",
       "            background-color:  yellow;\n",
       "            background-color:  lightgrey;\n",
       "        }</style><table id=\"T_3c2b93b6_3a6d_11ec_90d1_94b86d2a4323\" ><thead>    <tr>        <th class=\"blank level0\" ></th>        <th class=\"col_heading level0 col0\" >Model</th>        <th class=\"col_heading level0 col1\" >Accuracy</th>        <th class=\"col_heading level0 col2\" >AUC</th>        <th class=\"col_heading level0 col3\" >Recall</th>        <th class=\"col_heading level0 col4\" >Prec.</th>        <th class=\"col_heading level0 col5\" >F1</th>        <th class=\"col_heading level0 col6\" >Kappa</th>        <th class=\"col_heading level0 col7\" >MCC</th>        <th class=\"col_heading level0 col8\" >TT (Sec)</th>    </tr></thead><tbody>\n",
       "                <tr>\n",
       "                        <th id=\"T_3c2b93b6_3a6d_11ec_90d1_94b86d2a4323level0_row0\" class=\"row_heading level0 row0\" >catboost</th>\n",
       "                        <td id=\"T_3c2b93b6_3a6d_11ec_90d1_94b86d2a4323row0_col0\" class=\"data row0 col0\" >CatBoost Classifier</td>\n",
       "                        <td id=\"T_3c2b93b6_3a6d_11ec_90d1_94b86d2a4323row0_col1\" class=\"data row0 col1\" >0.5740</td>\n",
       "                        <td id=\"T_3c2b93b6_3a6d_11ec_90d1_94b86d2a4323row0_col2\" class=\"data row0 col2\" >0.6053</td>\n",
       "                        <td id=\"T_3c2b93b6_3a6d_11ec_90d1_94b86d2a4323row0_col3\" class=\"data row0 col3\" >0.5729</td>\n",
       "                        <td id=\"T_3c2b93b6_3a6d_11ec_90d1_94b86d2a4323row0_col4\" class=\"data row0 col4\" >0.5737</td>\n",
       "                        <td id=\"T_3c2b93b6_3a6d_11ec_90d1_94b86d2a4323row0_col5\" class=\"data row0 col5\" >0.5728</td>\n",
       "                        <td id=\"T_3c2b93b6_3a6d_11ec_90d1_94b86d2a4323row0_col6\" class=\"data row0 col6\" >0.1459</td>\n",
       "                        <td id=\"T_3c2b93b6_3a6d_11ec_90d1_94b86d2a4323row0_col7\" class=\"data row0 col7\" >0.1462</td>\n",
       "                        <td id=\"T_3c2b93b6_3a6d_11ec_90d1_94b86d2a4323row0_col8\" class=\"data row0 col8\" >5.2820</td>\n",
       "            </tr>\n",
       "            <tr>\n",
       "                        <th id=\"T_3c2b93b6_3a6d_11ec_90d1_94b86d2a4323level0_row1\" class=\"row_heading level0 row1\" >gbc</th>\n",
       "                        <td id=\"T_3c2b93b6_3a6d_11ec_90d1_94b86d2a4323row1_col0\" class=\"data row1 col0\" >Gradient Boosting Classifier</td>\n",
       "                        <td id=\"T_3c2b93b6_3a6d_11ec_90d1_94b86d2a4323row1_col1\" class=\"data row1 col1\" >0.5731</td>\n",
       "                        <td id=\"T_3c2b93b6_3a6d_11ec_90d1_94b86d2a4323row1_col2\" class=\"data row1 col2\" >0.6174</td>\n",
       "                        <td id=\"T_3c2b93b6_3a6d_11ec_90d1_94b86d2a4323row1_col3\" class=\"data row1 col3\" >0.5723</td>\n",
       "                        <td id=\"T_3c2b93b6_3a6d_11ec_90d1_94b86d2a4323row1_col4\" class=\"data row1 col4\" >0.5733</td>\n",
       "                        <td id=\"T_3c2b93b6_3a6d_11ec_90d1_94b86d2a4323row1_col5\" class=\"data row1 col5\" >0.5720</td>\n",
       "                        <td id=\"T_3c2b93b6_3a6d_11ec_90d1_94b86d2a4323row1_col6\" class=\"data row1 col6\" >0.1447</td>\n",
       "                        <td id=\"T_3c2b93b6_3a6d_11ec_90d1_94b86d2a4323row1_col7\" class=\"data row1 col7\" >0.1452</td>\n",
       "                        <td id=\"T_3c2b93b6_3a6d_11ec_90d1_94b86d2a4323row1_col8\" class=\"data row1 col8\" >0.2450</td>\n",
       "            </tr>\n",
       "            <tr>\n",
       "                        <th id=\"T_3c2b93b6_3a6d_11ec_90d1_94b86d2a4323level0_row2\" class=\"row_heading level0 row2\" >lr</th>\n",
       "                        <td id=\"T_3c2b93b6_3a6d_11ec_90d1_94b86d2a4323row2_col0\" class=\"data row2 col0\" >Logistic Regression</td>\n",
       "                        <td id=\"T_3c2b93b6_3a6d_11ec_90d1_94b86d2a4323row2_col1\" class=\"data row2 col1\" >0.5655</td>\n",
       "                        <td id=\"T_3c2b93b6_3a6d_11ec_90d1_94b86d2a4323row2_col2\" class=\"data row2 col2\" >0.5885</td>\n",
       "                        <td id=\"T_3c2b93b6_3a6d_11ec_90d1_94b86d2a4323row2_col3\" class=\"data row2 col3\" >0.5649</td>\n",
       "                        <td id=\"T_3c2b93b6_3a6d_11ec_90d1_94b86d2a4323row2_col4\" class=\"data row2 col4\" >0.5657</td>\n",
       "                        <td id=\"T_3c2b93b6_3a6d_11ec_90d1_94b86d2a4323row2_col5\" class=\"data row2 col5\" >0.5649</td>\n",
       "                        <td id=\"T_3c2b93b6_3a6d_11ec_90d1_94b86d2a4323row2_col6\" class=\"data row2 col6\" >0.1300</td>\n",
       "                        <td id=\"T_3c2b93b6_3a6d_11ec_90d1_94b86d2a4323row2_col7\" class=\"data row2 col7\" >0.1302</td>\n",
       "                        <td id=\"T_3c2b93b6_3a6d_11ec_90d1_94b86d2a4323row2_col8\" class=\"data row2 col8\" >0.6640</td>\n",
       "            </tr>\n",
       "            <tr>\n",
       "                        <th id=\"T_3c2b93b6_3a6d_11ec_90d1_94b86d2a4323level0_row3\" class=\"row_heading level0 row3\" >et</th>\n",
       "                        <td id=\"T_3c2b93b6_3a6d_11ec_90d1_94b86d2a4323row3_col0\" class=\"data row3 col0\" >Extra Trees Classifier</td>\n",
       "                        <td id=\"T_3c2b93b6_3a6d_11ec_90d1_94b86d2a4323row3_col1\" class=\"data row3 col1\" >0.5652</td>\n",
       "                        <td id=\"T_3c2b93b6_3a6d_11ec_90d1_94b86d2a4323row3_col2\" class=\"data row3 col2\" >0.5946</td>\n",
       "                        <td id=\"T_3c2b93b6_3a6d_11ec_90d1_94b86d2a4323row3_col3\" class=\"data row3 col3\" >0.5643</td>\n",
       "                        <td id=\"T_3c2b93b6_3a6d_11ec_90d1_94b86d2a4323row3_col4\" class=\"data row3 col4\" >0.5650</td>\n",
       "                        <td id=\"T_3c2b93b6_3a6d_11ec_90d1_94b86d2a4323row3_col5\" class=\"data row3 col5\" >0.5647</td>\n",
       "                        <td id=\"T_3c2b93b6_3a6d_11ec_90d1_94b86d2a4323row3_col6\" class=\"data row3 col6\" >0.1288</td>\n",
       "                        <td id=\"T_3c2b93b6_3a6d_11ec_90d1_94b86d2a4323row3_col7\" class=\"data row3 col7\" >0.1290</td>\n",
       "                        <td id=\"T_3c2b93b6_3a6d_11ec_90d1_94b86d2a4323row3_col8\" class=\"data row3 col8\" >0.1730</td>\n",
       "            </tr>\n",
       "            <tr>\n",
       "                        <th id=\"T_3c2b93b6_3a6d_11ec_90d1_94b86d2a4323level0_row4\" class=\"row_heading level0 row4\" >lightgbm</th>\n",
       "                        <td id=\"T_3c2b93b6_3a6d_11ec_90d1_94b86d2a4323row4_col0\" class=\"data row4 col0\" >Light Gradient Boosting Machine</td>\n",
       "                        <td id=\"T_3c2b93b6_3a6d_11ec_90d1_94b86d2a4323row4_col1\" class=\"data row4 col1\" >0.5652</td>\n",
       "                        <td id=\"T_3c2b93b6_3a6d_11ec_90d1_94b86d2a4323row4_col2\" class=\"data row4 col2\" >0.5906</td>\n",
       "                        <td id=\"T_3c2b93b6_3a6d_11ec_90d1_94b86d2a4323row4_col3\" class=\"data row4 col3\" >0.5643</td>\n",
       "                        <td id=\"T_3c2b93b6_3a6d_11ec_90d1_94b86d2a4323row4_col4\" class=\"data row4 col4\" >0.5650</td>\n",
       "                        <td id=\"T_3c2b93b6_3a6d_11ec_90d1_94b86d2a4323row4_col5\" class=\"data row4 col5\" >0.5644</td>\n",
       "                        <td id=\"T_3c2b93b6_3a6d_11ec_90d1_94b86d2a4323row4_col6\" class=\"data row4 col6\" >0.1287</td>\n",
       "                        <td id=\"T_3c2b93b6_3a6d_11ec_90d1_94b86d2a4323row4_col7\" class=\"data row4 col7\" >0.1289</td>\n",
       "                        <td id=\"T_3c2b93b6_3a6d_11ec_90d1_94b86d2a4323row4_col8\" class=\"data row4 col8\" >0.6570</td>\n",
       "            </tr>\n",
       "            <tr>\n",
       "                        <th id=\"T_3c2b93b6_3a6d_11ec_90d1_94b86d2a4323level0_row5\" class=\"row_heading level0 row5\" >rf</th>\n",
       "                        <td id=\"T_3c2b93b6_3a6d_11ec_90d1_94b86d2a4323row5_col0\" class=\"data row5 col0\" >Random Forest Classifier</td>\n",
       "                        <td id=\"T_3c2b93b6_3a6d_11ec_90d1_94b86d2a4323row5_col1\" class=\"data row5 col1\" >0.5650</td>\n",
       "                        <td id=\"T_3c2b93b6_3a6d_11ec_90d1_94b86d2a4323row5_col2\" class=\"data row5 col2\" >0.5958</td>\n",
       "                        <td id=\"T_3c2b93b6_3a6d_11ec_90d1_94b86d2a4323row5_col3\" class=\"data row5 col3\" >0.5645</td>\n",
       "                        <td id=\"T_3c2b93b6_3a6d_11ec_90d1_94b86d2a4323row5_col4\" class=\"data row5 col4\" >0.5652</td>\n",
       "                        <td id=\"T_3c2b93b6_3a6d_11ec_90d1_94b86d2a4323row5_col5\" class=\"data row5 col5\" >0.5644</td>\n",
       "                        <td id=\"T_3c2b93b6_3a6d_11ec_90d1_94b86d2a4323row5_col6\" class=\"data row5 col6\" >0.1290</td>\n",
       "                        <td id=\"T_3c2b93b6_3a6d_11ec_90d1_94b86d2a4323row5_col7\" class=\"data row5 col7\" >0.1292</td>\n",
       "                        <td id=\"T_3c2b93b6_3a6d_11ec_90d1_94b86d2a4323row5_col8\" class=\"data row5 col8\" >0.2470</td>\n",
       "            </tr>\n",
       "            <tr>\n",
       "                        <th id=\"T_3c2b93b6_3a6d_11ec_90d1_94b86d2a4323level0_row6\" class=\"row_heading level0 row6\" >ada</th>\n",
       "                        <td id=\"T_3c2b93b6_3a6d_11ec_90d1_94b86d2a4323row6_col0\" class=\"data row6 col0\" >Ada Boost Classifier</td>\n",
       "                        <td id=\"T_3c2b93b6_3a6d_11ec_90d1_94b86d2a4323row6_col1\" class=\"data row6 col1\" >0.5644</td>\n",
       "                        <td id=\"T_3c2b93b6_3a6d_11ec_90d1_94b86d2a4323row6_col2\" class=\"data row6 col2\" >0.5959</td>\n",
       "                        <td id=\"T_3c2b93b6_3a6d_11ec_90d1_94b86d2a4323row6_col3\" class=\"data row6 col3\" >0.5636</td>\n",
       "                        <td id=\"T_3c2b93b6_3a6d_11ec_90d1_94b86d2a4323row6_col4\" class=\"data row6 col4\" >0.5643</td>\n",
       "                        <td id=\"T_3c2b93b6_3a6d_11ec_90d1_94b86d2a4323row6_col5\" class=\"data row6 col5\" >0.5638</td>\n",
       "                        <td id=\"T_3c2b93b6_3a6d_11ec_90d1_94b86d2a4323row6_col6\" class=\"data row6 col6\" >0.1272</td>\n",
       "                        <td id=\"T_3c2b93b6_3a6d_11ec_90d1_94b86d2a4323row6_col7\" class=\"data row6 col7\" >0.1275</td>\n",
       "                        <td id=\"T_3c2b93b6_3a6d_11ec_90d1_94b86d2a4323row6_col8\" class=\"data row6 col8\" >0.0710</td>\n",
       "            </tr>\n",
       "            <tr>\n",
       "                        <th id=\"T_3c2b93b6_3a6d_11ec_90d1_94b86d2a4323level0_row7\" class=\"row_heading level0 row7\" >ridge</th>\n",
       "                        <td id=\"T_3c2b93b6_3a6d_11ec_90d1_94b86d2a4323row7_col0\" class=\"data row7 col0\" >Ridge Classifier</td>\n",
       "                        <td id=\"T_3c2b93b6_3a6d_11ec_90d1_94b86d2a4323row7_col1\" class=\"data row7 col1\" >0.5565</td>\n",
       "                        <td id=\"T_3c2b93b6_3a6d_11ec_90d1_94b86d2a4323row7_col2\" class=\"data row7 col2\" >0.0000</td>\n",
       "                        <td id=\"T_3c2b93b6_3a6d_11ec_90d1_94b86d2a4323row7_col3\" class=\"data row7 col3\" >0.5545</td>\n",
       "                        <td id=\"T_3c2b93b6_3a6d_11ec_90d1_94b86d2a4323row7_col4\" class=\"data row7 col4\" >0.5561</td>\n",
       "                        <td id=\"T_3c2b93b6_3a6d_11ec_90d1_94b86d2a4323row7_col5\" class=\"data row7 col5\" >0.5543</td>\n",
       "                        <td id=\"T_3c2b93b6_3a6d_11ec_90d1_94b86d2a4323row7_col6\" class=\"data row7 col6\" >0.1094</td>\n",
       "                        <td id=\"T_3c2b93b6_3a6d_11ec_90d1_94b86d2a4323row7_col7\" class=\"data row7 col7\" >0.1104</td>\n",
       "                        <td id=\"T_3c2b93b6_3a6d_11ec_90d1_94b86d2a4323row7_col8\" class=\"data row7 col8\" >0.0070</td>\n",
       "            </tr>\n",
       "            <tr>\n",
       "                        <th id=\"T_3c2b93b6_3a6d_11ec_90d1_94b86d2a4323level0_row8\" class=\"row_heading level0 row8\" >lda</th>\n",
       "                        <td id=\"T_3c2b93b6_3a6d_11ec_90d1_94b86d2a4323row8_col0\" class=\"data row8 col0\" >Linear Discriminant Analysis</td>\n",
       "                        <td id=\"T_3c2b93b6_3a6d_11ec_90d1_94b86d2a4323row8_col1\" class=\"data row8 col1\" >0.5565</td>\n",
       "                        <td id=\"T_3c2b93b6_3a6d_11ec_90d1_94b86d2a4323row8_col2\" class=\"data row8 col2\" >0.5793</td>\n",
       "                        <td id=\"T_3c2b93b6_3a6d_11ec_90d1_94b86d2a4323row8_col3\" class=\"data row8 col3\" >0.5545</td>\n",
       "                        <td id=\"T_3c2b93b6_3a6d_11ec_90d1_94b86d2a4323row8_col4\" class=\"data row8 col4\" >0.5561</td>\n",
       "                        <td id=\"T_3c2b93b6_3a6d_11ec_90d1_94b86d2a4323row8_col5\" class=\"data row8 col5\" >0.5543</td>\n",
       "                        <td id=\"T_3c2b93b6_3a6d_11ec_90d1_94b86d2a4323row8_col6\" class=\"data row8 col6\" >0.1094</td>\n",
       "                        <td id=\"T_3c2b93b6_3a6d_11ec_90d1_94b86d2a4323row8_col7\" class=\"data row8 col7\" >0.1104</td>\n",
       "                        <td id=\"T_3c2b93b6_3a6d_11ec_90d1_94b86d2a4323row8_col8\" class=\"data row8 col8\" >0.0080</td>\n",
       "            </tr>\n",
       "            <tr>\n",
       "                        <th id=\"T_3c2b93b6_3a6d_11ec_90d1_94b86d2a4323level0_row9\" class=\"row_heading level0 row9\" >xgboost</th>\n",
       "                        <td id=\"T_3c2b93b6_3a6d_11ec_90d1_94b86d2a4323row9_col0\" class=\"data row9 col0\" >Extreme Gradient Boosting</td>\n",
       "                        <td id=\"T_3c2b93b6_3a6d_11ec_90d1_94b86d2a4323row9_col1\" class=\"data row9 col1\" >0.5455</td>\n",
       "                        <td id=\"T_3c2b93b6_3a6d_11ec_90d1_94b86d2a4323row9_col2\" class=\"data row9 col2\" >0.5804</td>\n",
       "                        <td id=\"T_3c2b93b6_3a6d_11ec_90d1_94b86d2a4323row9_col3\" class=\"data row9 col3\" >0.5445</td>\n",
       "                        <td id=\"T_3c2b93b6_3a6d_11ec_90d1_94b86d2a4323row9_col4\" class=\"data row9 col4\" >0.5451</td>\n",
       "                        <td id=\"T_3c2b93b6_3a6d_11ec_90d1_94b86d2a4323row9_col5\" class=\"data row9 col5\" >0.5448</td>\n",
       "                        <td id=\"T_3c2b93b6_3a6d_11ec_90d1_94b86d2a4323row9_col6\" class=\"data row9 col6\" >0.0891</td>\n",
       "                        <td id=\"T_3c2b93b6_3a6d_11ec_90d1_94b86d2a4323row9_col7\" class=\"data row9 col7\" >0.0893</td>\n",
       "                        <td id=\"T_3c2b93b6_3a6d_11ec_90d1_94b86d2a4323row9_col8\" class=\"data row9 col8\" >0.5660</td>\n",
       "            </tr>\n",
       "            <tr>\n",
       "                        <th id=\"T_3c2b93b6_3a6d_11ec_90d1_94b86d2a4323level0_row10\" class=\"row_heading level0 row10\" >qda</th>\n",
       "                        <td id=\"T_3c2b93b6_3a6d_11ec_90d1_94b86d2a4323row10_col0\" class=\"data row10 col0\" >Quadratic Discriminant Analysis</td>\n",
       "                        <td id=\"T_3c2b93b6_3a6d_11ec_90d1_94b86d2a4323row10_col1\" class=\"data row10 col1\" >0.5376</td>\n",
       "                        <td id=\"T_3c2b93b6_3a6d_11ec_90d1_94b86d2a4323row10_col2\" class=\"data row10 col2\" >0.5538</td>\n",
       "                        <td id=\"T_3c2b93b6_3a6d_11ec_90d1_94b86d2a4323row10_col3\" class=\"data row10 col3\" >0.5408</td>\n",
       "                        <td id=\"T_3c2b93b6_3a6d_11ec_90d1_94b86d2a4323row10_col4\" class=\"data row10 col4\" >0.5433</td>\n",
       "                        <td id=\"T_3c2b93b6_3a6d_11ec_90d1_94b86d2a4323row10_col5\" class=\"data row10 col5\" >0.5299</td>\n",
       "                        <td id=\"T_3c2b93b6_3a6d_11ec_90d1_94b86d2a4323row10_col6\" class=\"data row10 col6\" >0.0812</td>\n",
       "                        <td id=\"T_3c2b93b6_3a6d_11ec_90d1_94b86d2a4323row10_col7\" class=\"data row10 col7\" >0.0834</td>\n",
       "                        <td id=\"T_3c2b93b6_3a6d_11ec_90d1_94b86d2a4323row10_col8\" class=\"data row10 col8\" >0.0090</td>\n",
       "            </tr>\n",
       "            <tr>\n",
       "                        <th id=\"T_3c2b93b6_3a6d_11ec_90d1_94b86d2a4323level0_row11\" class=\"row_heading level0 row11\" >svm</th>\n",
       "                        <td id=\"T_3c2b93b6_3a6d_11ec_90d1_94b86d2a4323row11_col0\" class=\"data row11 col0\" >SVM - Linear Kernel</td>\n",
       "                        <td id=\"T_3c2b93b6_3a6d_11ec_90d1_94b86d2a4323row11_col1\" class=\"data row11 col1\" >0.5295</td>\n",
       "                        <td id=\"T_3c2b93b6_3a6d_11ec_90d1_94b86d2a4323row11_col2\" class=\"data row11 col2\" >0.0000</td>\n",
       "                        <td id=\"T_3c2b93b6_3a6d_11ec_90d1_94b86d2a4323row11_col3\" class=\"data row11 col3\" >0.5273</td>\n",
       "                        <td id=\"T_3c2b93b6_3a6d_11ec_90d1_94b86d2a4323row11_col4\" class=\"data row11 col4\" >0.5286</td>\n",
       "                        <td id=\"T_3c2b93b6_3a6d_11ec_90d1_94b86d2a4323row11_col5\" class=\"data row11 col5\" >0.5247</td>\n",
       "                        <td id=\"T_3c2b93b6_3a6d_11ec_90d1_94b86d2a4323row11_col6\" class=\"data row11 col6\" >0.0547</td>\n",
       "                        <td id=\"T_3c2b93b6_3a6d_11ec_90d1_94b86d2a4323row11_col7\" class=\"data row11 col7\" >0.0555</td>\n",
       "                        <td id=\"T_3c2b93b6_3a6d_11ec_90d1_94b86d2a4323row11_col8\" class=\"data row11 col8\" >0.0110</td>\n",
       "            </tr>\n",
       "            <tr>\n",
       "                        <th id=\"T_3c2b93b6_3a6d_11ec_90d1_94b86d2a4323level0_row12\" class=\"row_heading level0 row12\" >dt</th>\n",
       "                        <td id=\"T_3c2b93b6_3a6d_11ec_90d1_94b86d2a4323row12_col0\" class=\"data row12 col0\" >Decision Tree Classifier</td>\n",
       "                        <td id=\"T_3c2b93b6_3a6d_11ec_90d1_94b86d2a4323row12_col1\" class=\"data row12 col1\" >0.5289</td>\n",
       "                        <td id=\"T_3c2b93b6_3a6d_11ec_90d1_94b86d2a4323row12_col2\" class=\"data row12 col2\" >0.5287</td>\n",
       "                        <td id=\"T_3c2b93b6_3a6d_11ec_90d1_94b86d2a4323row12_col3\" class=\"data row12 col3\" >0.5287</td>\n",
       "                        <td id=\"T_3c2b93b6_3a6d_11ec_90d1_94b86d2a4323row12_col4\" class=\"data row12 col4\" >0.5293</td>\n",
       "                        <td id=\"T_3c2b93b6_3a6d_11ec_90d1_94b86d2a4323row12_col5\" class=\"data row12 col5\" >0.5283</td>\n",
       "                        <td id=\"T_3c2b93b6_3a6d_11ec_90d1_94b86d2a4323row12_col6\" class=\"data row12 col6\" >0.0573</td>\n",
       "                        <td id=\"T_3c2b93b6_3a6d_11ec_90d1_94b86d2a4323row12_col7\" class=\"data row12 col7\" >0.0575</td>\n",
       "                        <td id=\"T_3c2b93b6_3a6d_11ec_90d1_94b86d2a4323row12_col8\" class=\"data row12 col8\" >0.0180</td>\n",
       "            </tr>\n",
       "            <tr>\n",
       "                        <th id=\"T_3c2b93b6_3a6d_11ec_90d1_94b86d2a4323level0_row13\" class=\"row_heading level0 row13\" >nb</th>\n",
       "                        <td id=\"T_3c2b93b6_3a6d_11ec_90d1_94b86d2a4323row13_col0\" class=\"data row13 col0\" >Naive Bayes</td>\n",
       "                        <td id=\"T_3c2b93b6_3a6d_11ec_90d1_94b86d2a4323row13_col1\" class=\"data row13 col1\" >0.5283</td>\n",
       "                        <td id=\"T_3c2b93b6_3a6d_11ec_90d1_94b86d2a4323row13_col2\" class=\"data row13 col2\" >0.5504</td>\n",
       "                        <td id=\"T_3c2b93b6_3a6d_11ec_90d1_94b86d2a4323row13_col3\" class=\"data row13 col3\" >0.5312</td>\n",
       "                        <td id=\"T_3c2b93b6_3a6d_11ec_90d1_94b86d2a4323row13_col4\" class=\"data row13 col4\" >0.5352</td>\n",
       "                        <td id=\"T_3c2b93b6_3a6d_11ec_90d1_94b86d2a4323row13_col5\" class=\"data row13 col5\" >0.5181</td>\n",
       "                        <td id=\"T_3c2b93b6_3a6d_11ec_90d1_94b86d2a4323row13_col6\" class=\"data row13 col6\" >0.0620</td>\n",
       "                        <td id=\"T_3c2b93b6_3a6d_11ec_90d1_94b86d2a4323row13_col7\" class=\"data row13 col7\" >0.0656</td>\n",
       "                        <td id=\"T_3c2b93b6_3a6d_11ec_90d1_94b86d2a4323row13_col8\" class=\"data row13 col8\" >0.0070</td>\n",
       "            </tr>\n",
       "            <tr>\n",
       "                        <th id=\"T_3c2b93b6_3a6d_11ec_90d1_94b86d2a4323level0_row14\" class=\"row_heading level0 row14\" >knn</th>\n",
       "                        <td id=\"T_3c2b93b6_3a6d_11ec_90d1_94b86d2a4323row14_col0\" class=\"data row14 col0\" >K Neighbors Classifier</td>\n",
       "                        <td id=\"T_3c2b93b6_3a6d_11ec_90d1_94b86d2a4323row14_col1\" class=\"data row14 col1\" >0.5190</td>\n",
       "                        <td id=\"T_3c2b93b6_3a6d_11ec_90d1_94b86d2a4323row14_col2\" class=\"data row14 col2\" >0.5257</td>\n",
       "                        <td id=\"T_3c2b93b6_3a6d_11ec_90d1_94b86d2a4323row14_col3\" class=\"data row14 col3\" >0.5186</td>\n",
       "                        <td id=\"T_3c2b93b6_3a6d_11ec_90d1_94b86d2a4323row14_col4\" class=\"data row14 col4\" >0.5190</td>\n",
       "                        <td id=\"T_3c2b93b6_3a6d_11ec_90d1_94b86d2a4323row14_col5\" class=\"data row14 col5\" >0.5186</td>\n",
       "                        <td id=\"T_3c2b93b6_3a6d_11ec_90d1_94b86d2a4323row14_col6\" class=\"data row14 col6\" >0.0371</td>\n",
       "                        <td id=\"T_3c2b93b6_3a6d_11ec_90d1_94b86d2a4323row14_col7\" class=\"data row14 col7\" >0.0371</td>\n",
       "                        <td id=\"T_3c2b93b6_3a6d_11ec_90d1_94b86d2a4323row14_col8\" class=\"data row14 col8\" >0.3950</td>\n",
       "            </tr>\n",
       "    </tbody></table>"
      ],
      "text/plain": [
       "<pandas.io.formats.style.Styler at 0x17a575ae908>"
      ]
     },
     "metadata": {},
     "output_type": "display_data"
    }
   ],
   "source": [
    "top3 = compare_models(n_select = 3)"
   ]
  },
  {
   "cell_type": "markdown",
   "metadata": {},
   "source": [
    "## Create a Model"
   ]
  },
  {
   "cell_type": "code",
   "execution_count": null,
   "metadata": {},
   "outputs": [],
   "source": [
    "dt = create_model('dt', fold = 5)"
   ]
  },
  {
   "cell_type": "markdown",
   "metadata": {},
   "source": [
    "## Tune Model"
   ]
  },
  {
   "cell_type": "code",
   "execution_count": null,
   "metadata": {},
   "outputs": [],
   "source": [
    "tuned_rf = tune_model(rf, optimize = 'AUC')"
   ]
  },
  {
   "cell_type": "code",
   "execution_count": null,
   "metadata": {},
   "outputs": [],
   "source": [
    "# Plot model calibration\n",
    "plot_model(tuned_rf, plot='calibration')"
   ]
  },
  {
   "cell_type": "markdown",
   "metadata": {},
   "source": [
    "## Bagging"
   ]
  },
  {
   "cell_type": "code",
   "execution_count": null,
   "metadata": {},
   "outputs": [],
   "source": [
    "bagged_dt = ensemble_model(dt)"
   ]
  },
  {
   "cell_type": "markdown",
   "metadata": {},
   "source": [
    "## Boosting"
   ]
  },
  {
   "cell_type": "code",
   "execution_count": null,
   "metadata": {},
   "outputs": [],
   "source": [
    "boosted_dt = ensemble_model(dt, method = 'Boosting')"
   ]
  },
  {
   "cell_type": "markdown",
   "metadata": {},
   "source": [
    "## Blending"
   ]
  },
  {
   "cell_type": "code",
   "execution_count": null,
   "metadata": {},
   "outputs": [],
   "source": [
    "# train individual models to blend\n",
    "lightgbm = create_model('lightgbm', verbose = False)\n",
    "dt = create_model('dt', verbose = False)\n",
    "lr = create_model('lr', verbose = False)\n",
    "\n",
    "\n",
    "\n",
    "# blend individual models\n",
    "blend_soft = blend_models(estimator_list = [lightgbm, dt, lr], method = 'soft')\n"
   ]
  },
  {
   "cell_type": "markdown",
   "metadata": {},
   "source": [
    "## Stacking"
   ]
  },
  {
   "cell_type": "code",
   "execution_count": null,
   "metadata": {},
   "outputs": [],
   "source": [
    "stack_soft = stack_models(top3)"
   ]
  },
  {
   "cell_type": "code",
   "execution_count": null,
   "metadata": {},
   "outputs": [],
   "source": []
  },
  {
   "cell_type": "code",
   "execution_count": null,
   "metadata": {},
   "outputs": [],
   "source": []
  }
 ],
 "metadata": {
  "interpreter": {
   "hash": "f2a2d53c2a3f68e59ded9a0cc4e92d39bb58ccc919237643a230bf9df66fd2c3"
  },
  "kernelspec": {
   "display_name": "Python 3.7.0 64-bit",
   "name": "python3"
  },
  "language_info": {
   "codemirror_mode": {
    "name": "ipython",
    "version": 3
   },
   "file_extension": ".py",
   "mimetype": "text/x-python",
   "name": "python",
   "nbconvert_exporter": "python",
   "pygments_lexer": "ipython3",
   "version": "3.7.0"
  },
  "orig_nbformat": 4
 },
 "nbformat": 4,
 "nbformat_minor": 2
}
